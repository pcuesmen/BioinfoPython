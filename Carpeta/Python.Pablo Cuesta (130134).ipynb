{
 "cells": [
  {
   "cell_type": "markdown",
   "id": "eaebb484",
   "metadata": {},
   "source": [
    "# TRABAJO DE PYTHON\n",
    "\n",
    "### Este trabajo cuenta el 30% de la nota. \n",
    "\n",
    "### Resuelve los siguientes ejercicios en Python\n",
    "\n",
    "#### Utiliza tantas celdas de código como necesites"
   ]
  },
  {
   "cell_type": "markdown",
   "id": "98d4d480",
   "metadata": {},
   "source": [
    "#### 1.- Carga el archivo *\"archivo.txt\"* en este Jupyter Notebook y guarda su contenido en una lista. (1 pto)"
   ]
  },
  {
   "cell_type": "code",
   "execution_count": 3,
   "id": "ac339df9-6d5e-49d9-ba0e-9f26c073f0e4",
   "metadata": {},
   "outputs": [
    {
     "name": "stdout",
     "output_type": "stream",
     "text": [
      "['>CP043953.1 Acinetobacter baumannii strain K09-14 chromosome, complete genome\\n', 'ATGCTTTGGACAGACTGCTTAACTCGCTTGCGACAAGAGCTCTCTGATAACGTCTTTGCGATGTGGATTCGCCCTTTAGTAGCTGAAGAAGTAGAGGGGATACTACGTCTCTATGCTCCTAATCCTTATTGGACGCGTTATATTCAAGAGAATCATTTAGAGTTAATTTCTATATTGGCTGAACAATTGTCAGAAGGGCGGGTGCGTCAGGTTGAAATCTTGGTAGATTCTCGTCCTGGTAGTATTTTGTCTTCTAGTGAACAGCCTGCAACAACTACAGCAGCTTTACAAACTGCCCCTATACCTCAACCTGCTAAGGTTAAAAGAGAACCGGAACCTGTTGCTAATACTGCAGTTAGTTCTAAGAGTTCAAAAAAGAAACTATTAAATCCACAATTTACTTTTTCACTATTTGTTGAAGGCCGTTCTAACCAAATGGCAGCAGAAACCTGTAGAAAAGTATTAACACAGTTAGGTGCTTCTCAACATAACCCTTTGTTTTTATATGGTCCGACAGGTCTAGGTAAGACTCACTTAATGCAAGCAGTTGGTAATGCCCTACTGCAAGCGAAGCCGAATGCAAGAGTCATGTATATGACTTCAGAAAGTTTTGTACAAGATTTTGTGAGCTCATTACAAAAAGGAAAGGTAGAAGAGTTTAAGAAAAATTGCCGTTCTTTAGACTTGTTATTAGTAGATGATATTCATCTTTTGGCAGGAAAAGAAGCAAGTCTCGTTGAATTCTTCTATACATTTAATGCCTTACTTGATGAATCTAAACAAATTATTTTAACGTCTGATCGATATCCTAAAGAATTAACAGAACTTGATCCTCGATTGGTTTCTCGTTTTTCCTGGGGGCTATCAGTAGGTGTTGAACCACCTGATATTGAAACTCGAATCGAAATTCTGCTTAAAAAAGCTGAAAATAGTGGCGTTGATTTACCTAGAAACTGTGCGTTGTTTATTGCCCAACAAGTCGTAGCGAACGTACGTGAACTTGAGGGCGCACTGAATAAAGTTGTCGCAATTTCACGTTTTAAAGGTGCTCCAATTGACCTGGATGTCGTACGGGAATCTTTAAAAGATGTTTTAGCGATCCGTGCTCGTACAATTAGTGTAGAAAATATCCAGCGTGTAGTGAGTGAATATTTCCGAATTCCATTAAAAGAGCTGGTAGGTCCAAAGCGTACCCGAATTTATGCTCGACCACGTCAGTTGGCGATGGGGCTTGCCCGTGAATTAACGGGGGATAGTTTTCCTGAAATTGGAATGGCTTTTGGTGGGCGTGATCACAGTACAGTGATGCATGCTTGTGAAAAAGTCGTC']\n"
     ]
    }
   ],
   "source": [
    "import re \n",
    "with open ('/Users/pablocuesta/Desktop/Python/archivo.txt' ) as file: \n",
    "           contenido = file. readlines() \n",
    "print(contenido)"
   ]
  },
  {
   "cell_type": "markdown",
   "id": "400fa3f1",
   "metadata": {},
   "source": [
    "#### 2.- Muestre el encabezado y la secuencia y guarde cada uno en variables separadas. Elimine el elemento \"\\n\" del encabezado con replace(). ¿Cual es la longitud de la secuencia?. (1 pto)"
   ]
  },
  {
   "cell_type": "code",
   "execution_count": 5,
   "id": "154b42b2",
   "metadata": {},
   "outputs": [
    {
     "name": "stdout",
     "output_type": "stream",
     "text": [
      ">CP043953.1 Acinetobacter baumannii strain K09-14 chromosome, complete genome\n",
      "ATGCTTTGGACAGACTGCTTAACTCGCTTGCGACAAGAGCTCTCTGATAACGTCTTTGCGATGTGGATTCGCCCTTTAGTAGCTGAAGAAGTAGAGGGGATACTACGTCTCTATGCTCCTAATCCTTATTGGACGCGTTATATTCAAGAGAATCATTTAGAGTTAATTTCTATATTGGCTGAACAATTGTCAGAAGGGCGGGTGCGTCAGGTTGAAATCTTGGTAGATTCTCGTCCTGGTAGTATTTTGTCTTCTAGTGAACAGCCTGCAACAACTACAGCAGCTTTACAAACTGCCCCTATACCTCAACCTGCTAAGGTTAAAAGAGAACCGGAACCTGTTGCTAATACTGCAGTTAGTTCTAAGAGTTCAAAAAAGAAACTATTAAATCCACAATTTACTTTTTCACTATTTGTTGAAGGCCGTTCTAACCAAATGGCAGCAGAAACCTGTAGAAAAGTATTAACACAGTTAGGTGCTTCTCAACATAACCCTTTGTTTTTATATGGTCCGACAGGTCTAGGTAAGACTCACTTAATGCAAGCAGTTGGTAATGCCCTACTGCAAGCGAAGCCGAATGCAAGAGTCATGTATATGACTTCAGAAAGTTTTGTACAAGATTTTGTGAGCTCATTACAAAAAGGAAAGGTAGAAGAGTTTAAGAAAAATTGCCGTTCTTTAGACTTGTTATTAGTAGATGATATTCATCTTTTGGCAGGAAAAGAAGCAAGTCTCGTTGAATTCTTCTATACATTTAATGCCTTACTTGATGAATCTAAACAAATTATTTTAACGTCTGATCGATATCCTAAAGAATTAACAGAACTTGATCCTCGATTGGTTTCTCGTTTTTCCTGGGGGCTATCAGTAGGTGTTGAACCACCTGATATTGAAACTCGAATCGAAATTCTGCTTAAAAAAGCTGAAAATAGTGGCGTTGATTTACCTAGAAACTGTGCGTTGTTTATTGCCCAACAAGTCGTAGCGAACGTACGTGAACTTGAGGGCGCACTGAATAAAGTTGTCGCAATTTCACGTTTTAAAGGTGCTCCAATTGACCTGGATGTCGTACGGGAATCTTTAAAAGATGTTTTAGCGATCCGTGCTCGTACAATTAGTGTAGAAAATATCCAGCGTGTAGTGAGTGAATATTTCCGAATTCCATTAAAAGAGCTGGTAGGTCCAAAGCGTACCCGAATTTATGCTCGACCACGTCAGTTGGCGATGGGGCTTGCCCGTGAATTAACGGGGGATAGTTTTCCTGAAATTGGAATGGCTTTTGGTGGGCGTGATCACAGTACAGTGATGCATGCTTGTGAAAAAGTCGTC\n",
      "La longitud de secuencia es: 1329\n"
     ]
    }
   ],
   "source": [
    "encabezado=contenido[0].replace(\"\\n\",\"\") \n",
    "secuencia=contenido[1]\n",
    "longitud=len(secuencia)\n",
    "print(encabezado)\n",
    "print(secuencia)\n",
    "print(f\"La longitud de secuencia es: {longitud}\")"
   ]
  },
  {
   "cell_type": "markdown",
   "id": "36b8c00d",
   "metadata": {},
   "source": [
    "#### 3.- Para el encabezado, extrae empleando expresiones regulares el identificador. (1pto)"
   ]
  },
  {
   "cell_type": "code",
   "execution_count": 7,
   "id": "d845bb81",
   "metadata": {},
   "outputs": [
    {
     "name": "stdout",
     "output_type": "stream",
     "text": [
      "El identificador es: CP043953.1\n"
     ]
    }
   ],
   "source": [
    "identificador=re.search(r\"[CP,NC,NZ,AP].*\\.[0-9]\",encabezado)\n",
    "print(f\"El identificador es: {identificador.group()}\")"
   ]
  },
  {
   "cell_type": "markdown",
   "id": "f38fdda0",
   "metadata": {},
   "source": [
    "#### 4.- Para la secuencia, haz un algoritmo que vaya sumando el numero de adeninas (A) y timinas (T) segun vaya iterando por la secuencia. El numero total de adeninas y timinas deberia guardarse en una misma variable. (1 pto)"
   ]
  },
  {
   "cell_type": "code",
   "execution_count": 9,
   "id": "2914b1f2",
   "metadata": {},
   "outputs": [
    {
     "name": "stdout",
     "output_type": "stream",
     "text": [
      "793\n"
     ]
    }
   ],
   "source": [
    "AT=0\n",
    "for nucleotido in secuencia:\n",
    "    if nucleotido ==\"A\" or nucleotido == \"T\":\n",
    "        AT=AT+1\n",
    "print(AT)\n",
    "    "
   ]
  },
  {
   "cell_type": "markdown",
   "id": "98096e73",
   "metadata": {},
   "source": [
    "#### 5.- Escribe una funcion que calcule el porcentaje de un nucleotido de una secuencia y que examine la entrada para comprobar que se ha introducido un nucleotido de los cuatro tipos que hay (A, T, G o C). Devuelve el resultado con un decimal. Por ultimo comprueba que tu codigo funciona con las siguientes *assertions*. (1 pto)"
   ]
  },
  {
   "cell_type": "code",
   "execution_count": 11,
   "id": "a1926ff3-7cbc-400a-b119-250a747cc074",
   "metadata": {},
   "outputs": [],
   "source": [
    "if not all (nucleotido for nucleotido in secuencia if nucleotido in [\"A\",\"T\",\"G\",\"C\"]):\n",
    "    print (\"secuencia no valida\")\n",
    "def calculo_porcentaje(atgc,secuencia):\n",
    "    count=0\n",
    "    for nucleotido in secuencia:\n",
    "        if nucleotido ==atgc:\n",
    "            count=count+1\n",
    "    porcentaje=round(count/longitud *100,1)\n",
    "    return porcentaje"
   ]
  },
  {
   "cell_type": "code",
   "execution_count": 13,
   "id": "df4b86c4",
   "metadata": {},
   "outputs": [],
   "source": [
    "assert calculo_porcentaje(\"A\",secuencia) == 29.2\n",
    "assert calculo_porcentaje(\"T\",secuencia) == 30.5\n",
    "assert calculo_porcentaje(\"G\",secuencia) == 22.0\n",
    "assert calculo_porcentaje(\"C\",secuencia) == 18.3"
   ]
  },
  {
   "cell_type": "markdown",
   "id": "a28888dd",
   "metadata": {},
   "source": [
    "#### 6.- Devuelve la secuencia de ARN que surgiría a partir de la siguiente secuencia. Recuerda que la secuencia de ARN resultante tiene que ser complementaria a la de ADN y además, hay que cambiar un nucleótido. (1 pto)"
   ]
  },
  {
   "cell_type": "code",
   "execution_count": 15,
   "id": "b27feabb",
   "metadata": {},
   "outputs": [
    {
     "name": "stdout",
     "output_type": "stream",
     "text": [
      "Secuencia de ARN AUGCUUUGGACAGACUGCUUAACUCGCUUGCGACAAGAGCUCUCUGAUAACGUCUUUGCGAUGUGGAUUCGCCCUUUAGUAGCUGAAGAAGUAGAGGGGAUACUACGUCUCUAUGCUCCUAAUCCUUAUUGGACGCGUUAUAUUCAAGAGAAUCAUUUAGAGUUAAUUUCUAUAUUGGCUGAACAAUUGUCAGAAGGGCGGGUGCGUCAGGUUGAAAUCUUGGUAGAUUCUCGUCCUGGUAGUAUUUUGUCUUCUAGUGAACAGCCUGCAACAACUACAGCAGCUUUACAAACUGCCCCUAUACCUCAACCUGCUAAGGUUAAAAGAGAACCGGAACCUGUUGCUAAUACUGCAGUUAGUUCUAAGAGUUCAAAAAAGAAACUAUUAAAUCCACAAUUUACUUUUUCACUAUUUGUUGAAGGCCGUUCUAACCAAAUGGCAGCAGAAACCUGUAGAAAAGUAUUAACACAGUUAGGUGCUUCUCAACAUAACCCUUUGUUUUUAUAUGGUCCGACAGGUCUAGGUAAGACUCACUUAAUGCAAGCAGUUGGUAAUGCCCUACUGCAAGCGAAGCCGAAUGCAAGAGUCAUGUAUAUGACUUCAGAAAGUUUUGUACAAGAUUUUGUGAGCUCAUUACAAAAAGGAAAGGUAGAAGAGUUUAAGAAAAAUUGCCGUUCUUUAGACUUGUUAUUAGUAGAUGAUAUUCAUCUUUUGGCAGGAAAAGAAGCAAGUCUCGUUGAAUUCUUCUAUACAUUUAAUGCCUUACUUGAUGAAUCUAAACAAAUUAUUUUAACGUCUGAUCGAUAUCCUAAAGAAUUAACAGAACUUGAUCCUCGAUUGGUUUCUCGUUUUUCCUGGGGGCUAUCAGUAGGUGUUGAACCACCUGAUAUUGAAACUCGAAUCGAAAUUCUGCUUAAAAAAGCUGAAAAUAGUGGCGUUGAUUUACCUAGAAACUGUGCGUUGUUUAUUGCCCAACAAGUCGUAGCGAACGUACGUGAACUUGAGGGCGCACUGAAUAAAGUUGUCGCAAUUUCACGUUUUAAAGGUGCUCCAAUUGACCUGGAUGUCGUACGGGAAUCUUUAAAAGAUGUUUUAGCGAUCCGUGCUCGUACAAUUAGUGUAGAAAAUAUCCAGCGUGUAGUGAGUGAAUAUUUCCGAAUUCCAUUAAAAGAGCUGGUAGGUCCAAAGCGUACCCGAAUUUAUGCUCGACCACGUCAGUUGGCGAUGGGGCUUGCCCGUGAAUUAACGGGGGAUAGUUUUCCUGAAAUUGGAAUGGCUUUUGGUGGGCGUGAUCACAGUACAGUGAUGCAUGCUUGUGAAAAAGUCGUC\n"
     ]
    }
   ],
   "source": [
    "def convertir_a_arn(secuencia):\n",
    "    complementaria= secuencia.replace ('T','U')\n",
    "    return complementaria\n",
    "\n",
    "secuencia_arn= convertir_a_arn(secuencia)\n",
    "print (\"Secuencia de ARN\", secuencia_arn)"
   ]
  },
  {
   "cell_type": "markdown",
   "id": "9f94d5dd",
   "metadata": {},
   "source": [
    "#### 7.- Realiza una función que realice una digestión con las siguientes enzimas de restricción en nuestra secuencia. La función tiene que devolver la siguiente información: (2 pto)\n",
    "1. Enzimas que tienen sitios de corte en la secuencia y posición (o posiciones de corte)\n",
    "2. Enzimas que no tienen sitios de corte (si las hay)\n",
    "3. Resultado de la digestión: los fragmentos resultantes de nuestra secuencia\n",
    "4. Indicar número y tamaño de cada fragmento"
   ]
  },
  {
   "cell_type": "code",
   "execution_count": 17,
   "id": "0fcb33f2-1b68-421d-a060-1343e938f418",
   "metadata": {},
   "outputs": [],
   "source": [
    "def digestion_enzR(secuencia, enzR):\n",
    "    posiciones = []  \n",
    "    for nombre, enzima in enzR.items():\n",
    "        sitios = [] \n",
    "        secuencia_sin_corte = secuencia  \n",
    "        corte = enzima.find(\"*\")  \n",
    "        while True:\n",
    "            indice = secuencia_sin_corte.find(enzima.replace(\"*\", \"\"))  \n",
    "            if indice == -1:  \n",
    "                break\n",
    "            posicion_corte = indice + corte + (len(secuencia) - len(secuencia_sin_corte))\n",
    "            sitios.append(posicion_corte)\n",
    "            secuencia_sin_corte = secuencia_sin_corte[indice + 1:] \n",
    "        if sitios:\n",
    "            print(f\"La enzima {nombre} corta en las posiciones: {sitios}\")\n",
    "            posiciones.extend(sitios)\n",
    "        else:\n",
    "            print(f\"La enzima {nombre} no corta en la secuencia.\")\n",
    "    posiciones.sort()\n",
    "    print(f\"Todas las posiciones de corte ordenadas: {posiciones}\")\n",
    "    comienzo_secuencia = 0\n",
    "    fragmentos = []\n",
    "    for posicion in posiciones:\n",
    "        fragmento = secuencia[comienzo_secuencia:posicion]\n",
    "        fragmentos.append(fragmento)\n",
    "        comienzo_secuencia = posicion\n",
    "    fragmentos.append(secuencia[comienzo_secuencia:]) \n",
    "    for i, fragmento in enumerate(fragmentos):\n",
    "        print(f\"Fragmento {i + 1}: Tamaño {len(fragmento)}\")\n",
    "        \n",
    "    print(f\"El número total de fragmentos es {len(fragmentos)}\")\n"
   ]
  },
  {
   "cell_type": "code",
   "execution_count": 19,
   "id": "1cab833c",
   "metadata": {
    "scrolled": true
   },
   "outputs": [
    {
     "name": "stdout",
     "output_type": "stream",
     "text": [
      "La enzima HindIII no corta en la secuencia.\n",
      "La enzima BamHI no corta en la secuencia.\n",
      "La enzima AluI corta en las posiciones: [39, 82, 283, 629, 922, 1173]\n",
      "La enzima Sau3AI corta en las posiciones: [798, 828, 1097, 1290]\n",
      "La enzima EcoRI corta en las posiciones: [739, 1157]\n",
      "Todas las posiciones de corte ordenadas: [39, 82, 283, 629, 739, 798, 828, 922, 1097, 1157, 1173, 1290]\n",
      "Fragmento 1: Tamaño 39\n",
      "Fragmento 2: Tamaño 43\n",
      "Fragmento 3: Tamaño 201\n",
      "Fragmento 4: Tamaño 346\n",
      "Fragmento 5: Tamaño 110\n",
      "Fragmento 6: Tamaño 59\n",
      "Fragmento 7: Tamaño 30\n",
      "Fragmento 8: Tamaño 94\n",
      "Fragmento 9: Tamaño 175\n",
      "Fragmento 10: Tamaño 60\n",
      "Fragmento 11: Tamaño 16\n",
      "Fragmento 12: Tamaño 117\n",
      "Fragmento 13: Tamaño 39\n",
      "El número total de fragmentos es 13\n"
     ]
    }
   ],
   "source": [
    "enzR = {\n",
    "    'HindIII' : 'A*AGCTT',\n",
    "    'BamHI' : 'G*GATCC',\n",
    "    'AluI' : 'AG*CT',\n",
    "    'Sau3AI' : '*GATC',\n",
    "    'EcoRI' : 'G*AATTC'\n",
    "}\n",
    "digestion_enzR(secuencia,enzR)"
   ]
  },
  {
   "cell_type": "markdown",
   "id": "cae3c937",
   "metadata": {},
   "source": [
    "#### 8.- Realiza una función que mediante la introducción de una secuencia de ADN devuelva lo siguiente: (2pto)\n",
    "1. La secuencia traducida de proteína\n",
    "2. La longitud de la secuencia de ADN original y la longitud de la secuencia de proteínas final\n",
    "3. El porcentaje de aminoácidos aromáticos (en conjunto y por separado)\n"
   ]
  },
  {
   "cell_type": "code",
   "execution_count": 21,
   "id": "1c43d765",
   "metadata": {},
   "outputs": [],
   "source": [
    "codon_table = {\n",
    "    'TTT': 'F', 'TTC': 'F', 'TTA': 'L', 'TTG': 'L',\n",
    "    'CTT': 'L', 'CTC': 'L', 'CTA': 'L', 'CTG': 'L',\n",
    "    'ATT': 'I', 'ATC': 'I', 'ATA': 'I', 'ATG': 'M',\n",
    "    'GTT': 'V', 'GTC': 'V', 'GTA': 'V', 'GTG': 'V',\n",
    "    'TCT': 'S', 'TCC': 'S', 'TCA': 'S', 'TCG': 'S',\n",
    "    'CCT': 'P', 'CCC': 'P', 'CCA': 'P', 'CCG': 'P',\n",
    "    'ACT': 'T', 'ACC': 'T', 'ACA': 'T', 'ACG': 'T',\n",
    "    'GCT': 'A', 'GCC': 'A', 'GCA': 'A', 'GCG': 'A',\n",
    "    'TAT': 'Y', 'TAC': 'Y', 'TAA': '_', 'TAG': '_',\n",
    "    'CAT': 'H', 'CAC': 'H', 'CAA': 'Q', 'CAG': 'Q',\n",
    "    'AAT': 'N', 'AAC': 'N', 'AAA': 'K', 'AAG': 'K',\n",
    "    'GAT': 'D', 'GAC': 'D', 'GAA': 'E', 'GAG': 'E',\n",
    "    'TGT': 'C', 'TGC': 'C', 'TGA': '_', 'TGG': 'W',\n",
    "    'CGT': 'R', 'CGC': 'R', 'CGA': 'R', 'CGG': 'R',\n",
    "    'AGT': 'S', 'AGC': 'S', 'AGA': 'R', 'AGG': 'R',\n",
    "    'GGT': 'G', 'GGC': 'G', 'GGA': 'G', 'GGG': 'G',\n",
    "}"
   ]
  },
  {
   "cell_type": "code",
   "execution_count": 23,
   "id": "5069d29b-3d51-4edf-abdb-eeccfcee8d2a",
   "metadata": {},
   "outputs": [],
   "source": [
    "def traducir_secuencia (secuencia,proteinas):\n",
    "    inicio_secuencia=secuencia.find(\"ATG\")\n",
    "    secuencia_proteina=\"\"\n",
    "    for i in range (inicio_secuencia,len(secuencia),3):\n",
    "        proteina=proteinas[secuencia[i:i+3]]\n",
    "        secuencia_proteina=secuencia_proteina+proteina\n",
    "    print(secuencia_proteina)\n",
    "    print(f\"La longitud total de la secuencia traducida a proteinas es {len(secuencia_proteina)}\")\n",
    "    print(f\"La longitud total de la secuencia de DNA original es {len(secuencia)}\")\n",
    "    aromatico_y=round(secuencia_proteina.count(\"Y\")/len(secuencia)*100,2)\n",
    "    aromatico_f=round(secuencia_proteina.count(\"F\")/len(secuencia)*100,2)\n",
    "    aromatico_w=round(secuencia_proteina.count(\"W\")/len(secuencia)*100,2)\n",
    "    print(f\"El porcentaje total de Tirosina es {aromatico_y}%\")\n",
    "    print(f\"El porcentaje total de Fenilalanina es {aromatico_f}%\")\n",
    "    print(f\"El porcentaje total de Triptófano es {aromatico_w}%\")\n",
    "    print(f\"El porcentaje total de aminoacidos aromaticos es {aromatico_y+aromatico_f+aromatico_w}%\")"
   ]
  },
  {
   "cell_type": "code",
   "execution_count": 25,
   "id": "9c90f5c1-b703-4b02-ba8b-39d0b2df253b",
   "metadata": {},
   "outputs": [
    {
     "name": "stdout",
     "output_type": "stream",
     "text": [
      "MLWTDCLTRLRQELSDNVFAMWIRPLVAEEVEGILRLYAPNPYWTRYIQENHLELISILAEQLSEGRVRQVEILVDSRPGSILSSSEQPATTTAALQTAPIPQPAKVKREPEPVANTAVSSKSSKKKLLNPQFTFSLFVEGRSNQMAAETCRKVLTQLGASQHNPLFLYGPTGLGKTHLMQAVGNALLQAKPNARVMYMTSESFVQDFVSSLQKGKVEEFKKNCRSLDLLLVDDIHLLAGKEASLVEFFYTFNALLDESKQIILTSDRYPKELTELDPRLVSRFSWGLSVGVEPPDIETRIEILLKKAENSGVDLPRNCALFIAQQVVANVRELEGALNKVVAISRFKGAPIDLDVVRESLKDVLAIRARTISVENIQRVVSEYFRIPLKELVGPKRTRIYARPRQLAMGLARELTGDSFPEIGMAFGGRDHSTVMHACEKVV\n",
      "La longitud total de la secuencia traducida a proteinas es 443\n",
      "La longitud total de la secuencia de DNA original es 1329\n",
      "El porcentaje total de Tirosina es 0.68%\n",
      "El porcentaje total de Fenilalanina es 1.28%\n",
      "El porcentaje total de Triptófano es 0.3%\n",
      "El porcentaje total de aminoacidos aromaticos es 2.26%\n"
     ]
    }
   ],
   "source": [
    "traducir_secuencia (secuencia,codon_table)"
   ]
  }
 ],
 "metadata": {
  "kernelspec": {
   "display_name": "Python 3 (ipykernel)",
   "language": "python",
   "name": "python3"
  },
  "language_info": {
   "codemirror_mode": {
    "name": "ipython",
    "version": 3
   },
   "file_extension": ".py",
   "mimetype": "text/x-python",
   "name": "python",
   "nbconvert_exporter": "python",
   "pygments_lexer": "ipython3",
   "version": "3.12.4"
  }
 },
 "nbformat": 4,
 "nbformat_minor": 5
}
